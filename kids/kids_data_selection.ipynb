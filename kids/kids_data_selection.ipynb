{
 "cells": [
  {
   "cell_type": "code",
   "execution_count": 18,
   "id": "8ea01c7c",
   "metadata": {},
   "outputs": [],
   "source": [
    "import numpy as np\n",
    "import matplotlib.pyplot as plt\n",
    "from scipy.stats import gamma, norm\n",
    "import pickle\n",
    "import tensorflow as tf\n",
    "import tensorflow_probability as tfp\n",
    "\n",
    "tfd = tfp.distributions"
   ]
  },
  {
   "cell_type": "markdown",
   "id": "aab52564",
   "metadata": {},
   "source": [
    "Import data"
   ]
  },
  {
   "cell_type": "code",
   "execution_count": 19,
   "id": "75923838",
   "metadata": {},
   "outputs": [],
   "source": [
    "# puffing factor for gaussian errors\n",
    "puff = np.array([1.0, 1.0, 1.0, 1.0, 1.0, 1.0, 1.3, 1.0, 1.0])\n",
    "\n",
    "# import data (with speczs)\n",
    "flux_sigmas = np.load('data/flux_errors_no_missing.npy')*(1e9)*puff # units: nanomaggies\n",
    "fluxes = np.load('data/fluxes_no_missing.npy')*1e9 # units: nanomaggies\n",
    "zspec = np.load('data/zspec_no_missing.npy')\n",
    "zb = np.load('data/zb_no_missing.npy')\n",
    "specsource = np.load('data/specsource_no_missing.npy')\n",
    "\n",
    "# cut out dodgy values\n",
    "cut = (fluxes < 1e9).all(axis=1) * (zspec < 2.0) * (zspec > 1e-3) * (specsource != 'CDFS') * (specsource != 'VVDS')\n",
    "fluxes = fluxes[cut,:]\n",
    "flux_sigmas = flux_sigmas[cut,:]\n",
    "zspec = zspec[cut]\n",
    "zb = zb[cut]\n",
    "specsource = specsource[cut]"
   ]
  },
  {
   "cell_type": "code",
   "execution_count": 20,
   "id": "69d548fd",
   "metadata": {},
   "outputs": [],
   "source": [
    "# weights\n",
    "logits = tf.Variable(np.array([-0.67778176, -1.1752868 , -1.6953907]).astype(np.float32))\n",
    "\n",
    "# location parameters\n",
    "locs = tf.Variable(np.array([0.11383244, 0.28379175, 0.532703]).astype(np.float32))\n",
    "\n",
    "# scale parameters\n",
    "scales = tf.Variable(np.array([0.05216346, 0.10501441, 0.09464115]).astype(np.float32))\n",
    "\n",
    "# skewness and tailweight parameters\n",
    "skewness = tf.Variable(np.array([0.23342754,  0.401639  , -0.001292]).astype(np.float32))\n",
    "tailweight = tf.Variable(np.array([0.7333437, 1.6772406, 1.1508114]).astype(np.float32))\n",
    "\n",
    "# mixture model\n",
    "nz = tfd.MixtureSameFamily(mixture_distribution=tfd.Categorical(logits=logits),\n",
    "                          components_distribution=tfd.SinhArcsinh(loc=locs, scale=scales, skewness=skewness, tailweight=tailweight))"
   ]
  },
  {
   "cell_type": "code",
   "execution_count": 21,
   "id": "7089a2fa",
   "metadata": {},
   "outputs": [
    {
     "data": {
      "image/png": "[encoded data removed]",
      "text/plain": [
       "<Figure size 432x288 with 1 Axes>"
      ]
     },
     "metadata": {
      "needs_background": "light"
     },
     "output_type": "display_data"
    }
   ],
   "source": [
    "z = np.linspace(0, 2, 500)\n",
    "pdf = nz.prob(z).numpy()\n",
    "plt.plot(z, pdf)\n",
    "\n",
    "mu = 0.3#np.median(zspec)\n",
    "sig = np.std(zspec)\n",
    "plt.hist(zspec, bins=100, density=True, alpha = 0.5)\n",
    "plt.plot(z, norm(loc=mu, scale=sig).pdf(z))\n",
    "plt.show()"
   ]
  },
  {
   "cell_type": "markdown",
   "id": "d363e24b",
   "metadata": {},
   "source": [
    "Importance sample to get biased sub-sample"
   ]
  },
  {
   "cell_type": "code",
   "execution_count": 23,
   "id": "141cb0da",
   "metadata": {},
   "outputs": [],
   "source": [
    "# importance weights\n",
    "weights = norm(loc=mu, scale=sig).pdf(zspec) / nz.prob(zspec).numpy()\n",
    "weights = weights / sum(weights)\n",
    "\n",
    "# make the selection\n",
    "ind = np.random.choice(np.arange(len(zspec)), p=weights, replace=False, size=15000)\n",
    "\n",
    "# do the cuts\n",
    "zspec_cal = zspec[ind]\n",
    "fluxes_cal = fluxes[ind]\n",
    "flux_sigmas_cal = flux_sigmas[ind]\n",
    "specsource_cal = specsource[ind]\n",
    "zb_cal = zb[ind]\n",
    "zprior_sig_cal = 0.001 * np.ones(len(zspec_cal))\n",
    "\n",
    "zspec_ = np.delete(zspec, ind)\n",
    "fluxes_ = np.delete(fluxes, ind, axis=0)\n",
    "flux_sigmas_ = np.delete(flux_sigmas, ind, axis=0)\n",
    "specsource_ = np.delete(specsource, ind)\n",
    "zb_ = np.delete(zb, ind)\n",
    "zprior_sig_ = 10. * np.ones(len(zspec_cal))\n",
    "\n",
    "zspec_all = np.concatenate([zspec_cal, zspec_])\n",
    "fluxes_all = np.concatenate([fluxes_cal, fluxes_], axis=0)\n",
    "flux_sigmas_all = np.concatenate([flux_sigmas_cal, flux_sigmas_], axis=0)\n",
    "specsource_all = np.concatenate([specsource_cal, specsource_])\n",
    "zb_all = np.concatenate([zb_cal, zb_])\n",
    "zprior_sig_all = np.concatenate([zprior_sig_cal, zprior_sig_])\n",
    "\n",
    "# now pickle everything\n",
    "pickle.dump([fluxes_cal, flux_sigmas_cal, zspec_cal, specsource_cal, zb_cal, zprior_sig_cal], open('data/KV450_cut_calibration.pkl', 'wb') )\n",
    "pickle.dump([fluxes_, flux_sigmas_, zspec_, specsource_, zb_, zprior_sig_], open('data/KV450_cut_main.pkl', 'wb') )\n",
    "pickle.dump([fluxes_all, flux_sigmas_all, zspec_all, specsource_all, zb_all, zprior_sig_all], open('data/KV450_cut_all.pkl', 'wb') )"
   ]
  },
  {
   "cell_type": "code",
   "execution_count": 26,
   "id": "ba2834aa",
   "metadata": {},
   "outputs": [
    {
     "data": {
      "image/png": "[encoded data removed]",
      "text/plain": [
       "<Figure size 432x288 with 1 Axes>"
      ]
     },
     "metadata": {
      "needs_background": "light"
     },
     "output_type": "display_data"
    }
   ],
   "source": [
    "plt.hist(zspec_, bins=150, density=True, alpha = 0.5)\n",
    "plt.hist(zspec_cal, bins=30, density=True, alpha = 0.5)\n",
    "plt.plot(z, pdf)\n",
    "plt.xlim(0, 1.5)\n",
    "plt.show()"
   ]
  },
  {
   "cell_type": "code",
   "execution_count": 25,
   "id": "64047988",
   "metadata": {},
   "outputs": [],
   "source": [
    "fluxes, flux_sigmas, zspec, specsource, zb, zprior_sig = pickle.load(open('data/KV450_cut_all.pkl', 'rb'))"
   ]
  },
  {
   "cell_type": "code",
   "execution_count": null,
   "id": "d1f26deb",
   "metadata": {},
   "outputs": [],
   "source": []
  }
 ],
 "metadata": {
  "kernelspec": {
   "display_name": "Python 3",
   "language": "python",
   "name": "python3"
  },
  "language_info": {
   "codemirror_mode": {
    "name": "ipython",
    "version": 3
   },
   "file_extension": ".py",
   "mimetype": "text/x-python",
   "name": "python",
   "nbconvert_exporter": "python",
   "pygments_lexer": "ipython3",
   "version": "3.8.6"
  }
 },
 "nbformat": 4,
 "nbformat_minor": 5
}
