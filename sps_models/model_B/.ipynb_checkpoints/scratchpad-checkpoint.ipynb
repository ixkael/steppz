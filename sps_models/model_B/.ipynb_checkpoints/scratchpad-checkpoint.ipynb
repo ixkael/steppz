{
 "cells": [
  {
   "cell_type": "code",
   "execution_count": 375,
   "metadata": {},
   "outputs": [],
   "source": [
    "import numpy as np\n",
    "import matplotlib.pyplot as plt\n",
    "import pickle\n",
    "from scipy.special import logsumexp, gammainc, gamma\n",
    "from sedpy.observate import load_filters, getSED\n",
    "from scipy.integrate import cumtrapz\n",
    "from scipy.stats import gaussian_kde\n",
    "import scipy.stats as stats\n",
    "from getdist import plots, MCSamples\n",
    "import matplotlib as mpl\n",
    "from astropy.cosmology import WMAP9\n",
    "from scipy.interpolate import InterpolatedUnivariateSpline\n",
    "from scipy.special import erf\n",
    "from scipy.stats import lognorm, norm\n",
    "\n",
    "import os\n",
    "os.environ[\"SPS_HOME\"] = '/Users/justinalsing/Dropbox/science/photo-z/fsps'\n",
    "import fsps\n",
    "\n",
    "import tensorflow as tf\n",
    "import tensorflow_probability as tfp\n",
    "import tqdm\n",
    "from tqdm import trange\n",
    "tfb = tfp.bijectors\n",
    "tfd = tfp.distributions\n",
    "tfkl = tf.keras.layers\n",
    "tfk = tf.keras"
   ]
  },
  {
   "cell_type": "markdown",
   "metadata": {},
   "source": [
    "Create SPS object (for computing stellar masses)"
   ]
  },
  {
   "cell_type": "code",
   "execution_count": 385,
   "metadata": {},
   "outputs": [],
   "source": [
    "sp = fsps.StellarPopulation(zcontinuous=1, compute_vega_mags=False, sfh=3)\n",
    "sp.params['logzsol'] = 0."
   ]
  },
  {
   "cell_type": "markdown",
   "metadata": {},
   "source": [
    "Delayed tau"
   ]
  },
  {
   "cell_type": "code",
   "execution_count": 395,
   "metadata": {},
   "outputs": [
    {
     "data": {
      "image/png": "[encoded data removed]",
      "text/plain": [
       "<Figure size 432x288 with 1 Axes>"
      ]
     },
     "metadata": {
      "needs_background": "light"
     },
     "output_type": "display_data"
    },
    {
     "data": {
      "image/png": "[encoded data removed]",
      "text/plain": [
       "<Figure size 432x288 with 1 Axes>"
      ]
     },
     "metadata": {
      "needs_background": "light"
     },
     "output_type": "display_data"
    }
   ],
   "source": [
    "n_samples = 10000\n",
    "tuniv = 13.7 # redshift = 0\n",
    "T0 = np.random.uniform(0, tuniv - 0.1, n_samples)\n",
    "tau = np.random.uniform(0.3, 10., n_samples)\n",
    "\n",
    "log10sSFR = np.log10((tuniv - T0)*np.exp(-(tuniv - T0)/tau)/(gamma(2) * gammainc(2, tuniv - T0))) - 9\n",
    "#log10sSFR100 = np.log10(1 - gammainc(2, tuniv - T0 - 0.1)/gammainc(2, tuniv - T0)) - np.log10(0.1) - 9\n",
    "\n",
    "# time grid\n",
    "nt = 1000\n",
    "t = np.concatenate([tuniv * (1. - np.logspace(-3, -1e-10, nt))[::-1], np.array([tuniv])])\n",
    "age = tuniv - t\n",
    "\n",
    "tMW = np.zeros(n_samples)\n",
    "log10sSFR100 = np.zeros(n_samples)\n",
    "for i in range(n_samples):\n",
    "    \n",
    "    sfr = (t - T0[i])*np.exp(-(t - T0[i])/tau[i]) * (t > T0[i])\n",
    "    sfr = sfr / np.trapz(x=t, y=sfr)\n",
    "    tMW[i] = np.trapz(x=t, y=sfr * t)\n",
    "    \n",
    "    sp.set_tabular_sfh(t, sfr*1e-9)\n",
    "    stellar_mass = sp.stellar_mass[-1]\n",
    "    \n",
    "    log10sSFR100[i] = np.log10(np.trapz(x=t[t >= tuniv - 0.1], y=sfr[t >= tuniv - 0.1]) / 0.1 ) - 9 - np.log10(stellar_mass)\n",
    "\n",
    "#plt.hist(log10sSFR[(log10sSFR > -14) * (log10sSFR < -8)], bins = 100, density=True)\n",
    "plt.hist(log10sSFR100[(log10sSFR100 > -14) * (log10sSFR100 < -8)], bins = 100, density=True)\n",
    "plt.xlim(-14, -8)\n",
    "plt.show()\n",
    "\n",
    "plt.hist(13.7-tMW, bins = 100)\n",
    "plt.show()"
   ]
  },
  {
   "cell_type": "markdown",
   "metadata": {},
   "source": [
    "Lognormal"
   ]
  },
  {
   "cell_type": "code",
   "execution_count": 409,
   "metadata": {},
   "outputs": [
    {
     "name": "stderr",
     "output_type": "stream",
     "text": [
      "/usr/local/Cellar/ipython/7.8.0/libexec/vendor/lib/python3.7/site-packages/ipykernel_launcher.py:29: RuntimeWarning: divide by zero encountered in log10\n"
     ]
    },
    {
     "data": {
      "image/png": "[encoded data removed]",
      "text/plain": [
       "<Figure size 432x288 with 1 Axes>"
      ]
     },
     "metadata": {
      "needs_background": "light"
     },
     "output_type": "display_data"
    },
    {
     "data": {
      "image/png": "[encoded data removed]",
      "text/plain": [
       "<Figure size 432x288 with 1 Axes>"
      ]
     },
     "metadata": {
      "needs_background": "light"
     },
     "output_type": "display_data"
    }
   ],
   "source": [
    "n_samples = 10000\n",
    "tuniv = 13.7 # redshift = 0\n",
    "\n",
    "# sample from priors\n",
    "t_peak = np.random.uniform(0.1, 15., n_samples)\n",
    "sigma_FWHM = np.random.uniform(0.1, 20., n_samples)\n",
    "\n",
    "# time grid\n",
    "nt = 20000\n",
    "t = np.concatenate([tuniv * (1. - np.logspace(-3, -1e-10, nt))[::-1], np.array([tuniv])])\n",
    "\n",
    "log10sSFR100 = np.zeros(n_samples)\n",
    "tMW = np.zeros(n_samples)\n",
    "for i in range(n_samples):\n",
    "    \n",
    "    # convert t_peak and FWHM into mu and tau parameters of the lognormal (mean and std-dev of the normal log random variate)\n",
    "    tau = np.arcsinh(sigma_FWHM[i]/(2*t_peak[i]))/np.sqrt(2*np.log(2)) # following Diemer+2017\n",
    "    mu = np.log(t_peak[i]) + tau**2\n",
    "    \n",
    "    # sfr (normalized to unity)\n",
    "    sfr = np.exp(lognorm.logpdf(t, s=tau, scale=np.exp(mu)) - lognorm.logcdf(tuniv, s=tau, scale=np.exp(mu)))\n",
    "    \n",
    "    # figure out the stellar mass (at solar metallicity)\n",
    "    sp.set_tabular_sfh(t, sfr*1e-9)\n",
    "    sp.params['logzsol'] = np.random.uniform(-1.98, 0.19)\n",
    "    stellar_mass = sp.stellar_mass[-1]\n",
    "    \n",
    "    # SFR integrated over the mast 100Myr\n",
    "    log10sSFR100[i] = np.log10(np.trapz(x=t[t >= tuniv-0.1], y=sfr[t >= tuniv-0.1])/0.1) - 9 - np.log10(stellar_mass)\n",
    "    \n",
    "    # mass weighted age\n",
    "    tMW[i] = np.trapz(x=t, y=sfr * t)\n",
    "\n",
    "# plot\n",
    "plt.hist(log10sSFR100[(log10sSFR100 > -14) * (log10sSFR100 < -8)], bins = 100, density=True)\n",
    "plt.xlim(-14, -8)\n",
    "plt.xlabel('log10(sSFR)')\n",
    "plt.show()\n",
    "\n",
    "plt.hist(13.7 - tMW, bins = 100)\n",
    "plt.xlabel('mass weighted age')\n",
    "plt.show()"
   ]
  },
  {
   "cell_type": "markdown",
   "metadata": {},
   "source": [
    "Double power-law"
   ]
  },
  {
   "cell_type": "code",
   "execution_count": 400,
   "metadata": {},
   "outputs": [
    {
     "name": "stderr",
     "output_type": "stream",
     "text": [
      "/usr/local/Cellar/ipython/7.8.0/libexec/vendor/lib/python3.7/site-packages/ipykernel_launcher.py:15: RuntimeWarning: overflow encountered in power\n",
      "  from ipykernel import kernelapp as app\n",
      "/usr/local/Cellar/ipython/7.8.0/libexec/vendor/lib/python3.7/site-packages/ipykernel_launcher.py:22: RuntimeWarning: divide by zero encountered in log10\n"
     ]
    },
    {
     "data": {
      "image/png": "[encoded data removed]",
      "text/plain": [
       "<Figure size 432x288 with 1 Axes>"
      ]
     },
     "metadata": {
      "needs_background": "light"
     },
     "output_type": "display_data"
    },
    {
     "data": {
      "image/png": "[encoded data removed]",
      "text/plain": [
       "<Figure size 432x288 with 1 Axes>"
      ]
     },
     "metadata": {
      "needs_background": "light"
     },
     "output_type": "display_data"
    }
   ],
   "source": [
    "n_samples = 10000\n",
    "tuniv = 13.7 # redshift = 0\n",
    "\n",
    "alpha = 10**(np.random.uniform(-1, 3, n_samples))\n",
    "beta = 10**(np.random.uniform(-1, 3, n_samples))\n",
    "tau = np.random.uniform(0.1, tuniv, n_samples)\n",
    "\n",
    "# time grid\n",
    "nt = 20000\n",
    "t = np.concatenate([tuniv * (1. - np.logspace(-3, -1e-10, nt))[::-1], np.array([tuniv])])\n",
    "\n",
    "for i in range(n_samples):\n",
    "    \n",
    "    sfr = 1./((t/tau[i])**alpha[i] + (tau[i]/t)**beta[i])\n",
    "    sfr = sfr/np.trapz(x=t, y=sfr)\n",
    "    \n",
    "    sp.set_tabular_sfh(t, sfr*1e-9)\n",
    "    sp.params['logzsol'] = np.random.uniform(-1.98, 0.19)\n",
    "    stellar_mass = sp.stellar_mass[-1]\n",
    "    \n",
    "    #log10sSFR[i] = np.log10(sfr[-1]/stellar_mass) - 9\n",
    "    log10sSFR100[i] = np.log10(np.trapz(x=t[t >= tuniv-0.1], y=sfr[t >= tuniv-0.1])/0.1) - 9 - np.log10(stellar_mass)\n",
    "    tMW[i] = np.trapz(x=t, y=sfr * t)\n",
    "    \n",
    "plt.hist(log10sSFR100[(log10sSFR100 > -14) * (log10sSFR100 < -8)], bins = 100, density=True)\n",
    "plt.xlim(-14, -8)\n",
    "plt.xlabel('log10(sSFR)')\n",
    "plt.show()\n",
    "\n",
    "plt.hist(13.7 - tMW, bins = 100)\n",
    "plt.xlabel('mass weighted age')\n",
    "plt.show()"
   ]
  },
  {
   "cell_type": "markdown",
   "metadata": {},
   "source": [
    "MAF"
   ]
  },
  {
   "cell_type": "code",
   "execution_count": 230,
   "metadata": {},
   "outputs": [],
   "source": [
    "# bijector\n",
    "n_params = 2\n",
    "lower = np.array([0.1, 0.1]).astype(np.float64)\n",
    "width = np.array([15 - 0.1, 20 - 0.1]).astype(np.float64)\n",
    "\n",
    "bijector = tfb.Chain([tfb.Blockwise([tfb.Invert(tfb.NormalCDF()) for i in range(n_params)]), \n",
    "                 tfb.Blockwise([tfb.Scale(1./width[i]) for i in range(n_params)]), \n",
    "                 tfb.Blockwise([tfb.Shift(-lower[i]) for i in range(n_params)])])\n",
    "\n",
    "\n",
    "# build the MAF\n",
    "\n",
    "# chain of bijective transforms\n",
    "n_mades = 3\n",
    "n_params = 2\n",
    "mades = [tfb.AutoregressiveNetwork(params=2, hidden_units=[10, 10], activation=tf.tanh, input_order='random') for i in range(n_mades)]\n",
    "bij = tfb.Chain([ tfb.MaskedAutoregressiveFlow(mades[i]) for i in range(n_mades)])\n",
    "base = tfd.Blockwise([tfd.Normal(loc=0, scale=1) for i in range(n_params)])\n",
    "maf = tfd.TransformedDistribution(base, bijector=bij)\n",
    "\n",
    "# optimizer\n",
    "optimizer = tf.keras.optimizers.Adam(lr=0.01)\n",
    "\n",
    "# training step function\n",
    "def train_step_samples(x, w):\n",
    "    with tf.GradientTape() as tape:\n",
    "        loss = -tf.reduce_mean(w*maf.log_prob(x))\n",
    "    gradients = tape.gradient(loss, maf.trainable_variables)\n",
    "    optimizer.apply_gradients(zip(gradients, maf.trainable_variables))\n",
    "    return loss"
   ]
  },
  {
   "cell_type": "code",
   "execution_count": 234,
   "metadata": {},
   "outputs": [
    {
     "name": "stderr",
     "output_type": "stream",
     "text": [
      "/usr/local/Cellar/ipython/7.8.0/libexec/vendor/lib/python3.7/site-packages/ipykernel_launcher.py:26: RuntimeWarning: invalid value encountered in log\n",
      "/usr/local/Cellar/ipython/7.8.0/libexec/vendor/lib/python3.7/site-packages/ipykernel_launcher.py:29: RuntimeWarning: invalid value encountered in log\n",
      "/usr/local/Cellar/ipython/7.8.0/libexec/vendor/lib/python3.7/site-packages/ipykernel_launcher.py:42: RuntimeWarning: invalid value encountered in greater\n",
      "/usr/local/Cellar/ipython/7.8.0/libexec/vendor/lib/python3.7/site-packages/ipykernel_launcher.py:42: RuntimeWarning: invalid value encountered in less\n"
     ]
    },
    {
     "data": {
      "image/png": "[encoded data removed]",
      "text/plain": [
       "<Figure size 432x288 with 1 Axes>"
      ]
     },
     "metadata": {
      "needs_background": "light"
     },
     "output_type": "display_data"
    },
    {
     "name": "stderr",
     "output_type": "stream",
     "text": [
      "/usr/local/Cellar/ipython/7.8.0/libexec/vendor/lib/python3.7/site-packages/ipykernel_launcher.py:43: TqdmDeprecationWarning: Please use `tqdm.notebook.trange` instead of `tqdm.tnrange`\n"
     ]
    },
    {
     "data": {
      "application/vnd.jupyter.widget-view+json": {
       "model_id": "b976ae32087d4a87b694adf6bb0b1cc0",
       "version_major": 2,
       "version_minor": 0
      },
      "text/plain": [
       "HBox(children=(HTML(value='Iterations'), FloatProgress(value=0.0, max=300.0), HTML(value='')))"
      ]
     },
     "metadata": {},
     "output_type": "display_data"
    },
    {
     "name": "stdout",
     "output_type": "stream",
     "text": [
      "\n"
     ]
    },
    {
     "name": "stderr",
     "output_type": "stream",
     "text": [
      "/usr/local/lib/python3.7/site-packages/scipy/stats/_distn_infrastructure.py:1887: RuntimeWarning: invalid value encountered in greater\n",
      "  cond0 = self._argcheck(*args) & (scale > 0)\n",
      "/usr/local/lib/python3.7/site-packages/scipy/stats/_distn_infrastructure.py:1888: RuntimeWarning: invalid value encountered in greater\n",
      "  cond1 = self._open_support_mask(x, *args) & (scale > 0)\n",
      "/usr/local/Cellar/ipython/7.8.0/libexec/vendor/lib/python3.7/site-packages/ipykernel_launcher.py:51: RuntimeWarning: invalid value encountered in greater\n",
      "/usr/local/Cellar/ipython/7.8.0/libexec/vendor/lib/python3.7/site-packages/ipykernel_launcher.py:51: RuntimeWarning: invalid value encountered in less\n"
     ]
    },
    {
     "ename": "ValueError",
     "evalue": "`dataset` input should have multiple elements.",
     "output_type": "error",
     "traceback": [
      "\u001b[0;31m---------------------------------------------------------------------------\u001b[0m",
      "\u001b[0;31mValueError\u001b[0m                                Traceback (most recent call last)",
      "\u001b[0;32m<ipython-input-234-f27b3eb9451f>\u001b[0m in \u001b[0;36m<module>\u001b[0;34m\u001b[0m\n\u001b[1;32m     54\u001b[0m \u001b[0mphi\u001b[0m \u001b[0;34m=\u001b[0m \u001b[0mphi\u001b[0m\u001b[0;34m[\u001b[0m\u001b[0mcut\u001b[0m\u001b[0;34m]\u001b[0m\u001b[0;34m\u001b[0m\u001b[0;34m\u001b[0m\u001b[0m\n\u001b[1;32m     55\u001b[0m \u001b[0;34m\u001b[0m\u001b[0m\n\u001b[0;32m---> 56\u001b[0;31m \u001b[0mlog10_sSFR_pdf\u001b[0m \u001b[0;34m=\u001b[0m \u001b[0mgaussian_kde\u001b[0m\u001b[0;34m(\u001b[0m\u001b[0mlog10sSFR\u001b[0m\u001b[0;34m)\u001b[0m\u001b[0;34m\u001b[0m\u001b[0;34m\u001b[0m\u001b[0m\n\u001b[0m\u001b[1;32m     57\u001b[0m \u001b[0mweights\u001b[0m \u001b[0;34m=\u001b[0m \u001b[0mtarget\u001b[0m\u001b[0;34m.\u001b[0m\u001b[0mpdf\u001b[0m\u001b[0;34m(\u001b[0m\u001b[0mlog10sSFR\u001b[0m\u001b[0;34m)\u001b[0m\u001b[0;34m/\u001b[0m\u001b[0mlog10_sSFR_pdf\u001b[0m\u001b[0;34m.\u001b[0m\u001b[0mpdf\u001b[0m\u001b[0;34m(\u001b[0m\u001b[0mlog10sSFR\u001b[0m\u001b[0;34m)\u001b[0m\u001b[0;34m\u001b[0m\u001b[0;34m\u001b[0m\u001b[0m\n\u001b[1;32m     58\u001b[0m \u001b[0mweights\u001b[0m \u001b[0;34m=\u001b[0m \u001b[0mweights\u001b[0m\u001b[0;34m/\u001b[0m\u001b[0mnp\u001b[0m\u001b[0;34m.\u001b[0m\u001b[0msum\u001b[0m\u001b[0;34m(\u001b[0m\u001b[0mweights\u001b[0m\u001b[0;34m)\u001b[0m\u001b[0;34m\u001b[0m\u001b[0;34m\u001b[0m\u001b[0m\n",
      "\u001b[0;32m/usr/local/lib/python3.7/site-packages/scipy/stats/kde.py\u001b[0m in \u001b[0;36m__init__\u001b[0;34m(self, dataset, bw_method, weights)\u001b[0m\n\u001b[1;32m    191\u001b[0m         \u001b[0mself\u001b[0m\u001b[0;34m.\u001b[0m\u001b[0mdataset\u001b[0m \u001b[0;34m=\u001b[0m \u001b[0matleast_2d\u001b[0m\u001b[0;34m(\u001b[0m\u001b[0masarray\u001b[0m\u001b[0;34m(\u001b[0m\u001b[0mdataset\u001b[0m\u001b[0;34m)\u001b[0m\u001b[0;34m)\u001b[0m\u001b[0;34m\u001b[0m\u001b[0;34m\u001b[0m\u001b[0m\n\u001b[1;32m    192\u001b[0m         \u001b[0;32mif\u001b[0m \u001b[0;32mnot\u001b[0m \u001b[0mself\u001b[0m\u001b[0;34m.\u001b[0m\u001b[0mdataset\u001b[0m\u001b[0;34m.\u001b[0m\u001b[0msize\u001b[0m \u001b[0;34m>\u001b[0m \u001b[0;36m1\u001b[0m\u001b[0;34m:\u001b[0m\u001b[0;34m\u001b[0m\u001b[0;34m\u001b[0m\u001b[0m\n\u001b[0;32m--> 193\u001b[0;31m             \u001b[0;32mraise\u001b[0m \u001b[0mValueError\u001b[0m\u001b[0;34m(\u001b[0m\u001b[0;34m\"`dataset` input should have multiple elements.\"\u001b[0m\u001b[0;34m)\u001b[0m\u001b[0;34m\u001b[0m\u001b[0;34m\u001b[0m\u001b[0m\n\u001b[0m\u001b[1;32m    194\u001b[0m \u001b[0;34m\u001b[0m\u001b[0m\n\u001b[1;32m    195\u001b[0m         \u001b[0mself\u001b[0m\u001b[0;34m.\u001b[0m\u001b[0md\u001b[0m\u001b[0;34m,\u001b[0m \u001b[0mself\u001b[0m\u001b[0;34m.\u001b[0m\u001b[0mn\u001b[0m \u001b[0;34m=\u001b[0m \u001b[0mself\u001b[0m\u001b[0;34m.\u001b[0m\u001b[0mdataset\u001b[0m\u001b[0;34m.\u001b[0m\u001b[0mshape\u001b[0m\u001b[0;34m\u001b[0m\u001b[0;34m\u001b[0m\u001b[0m\n",
      "\u001b[0;31mValueError\u001b[0m: `dataset` input should have multiple elements."
     ]
    }
   ],
   "source": [
    "# number of samples\n",
    "N = 100000\n",
    "\n",
    "# target density\n",
    "z = 0.\n",
    "tuniv = 13.7\n",
    "mu_sSFR = (1e-10)*(1+z)**2.1\n",
    "target = stats.norm(loc=np.log10(mu_sSFR), scale=0.3)\n",
    "log10_sfr_sf = target.rvs(N)\n",
    "\n",
    "# initial proposal draws\n",
    "theta = np.column_stack([np.random.uniform(0.1, 15, N), np.random.uniform(0.1, 20, N)])\n",
    "\n",
    "# compute sSFR for each \\theta and weights\n",
    "log10sSFR = compute_sSFR(theta, tuniv)\n",
    "cut = (log10sSFR > -20) * (log10sSFR < 0)\n",
    "log10sSFR = log10sSFR[cut]\n",
    "theta = theta[cut]\n",
    "\n",
    "log10_sSFR_pdf = gaussian_kde(log10sSFR)\n",
    "weights = target.pdf(log10sSFR)/log10_sSFR_pdf.pdf(log10sSFR)\n",
    "weights = weights/np.sum(weights)\n",
    "\n",
    "# importance re-sampling step\n",
    "theta, sSFR, log10_sSFR_pdf, weights = importance_resample(theta, weights, target, N, tuniv)\n",
    "\n",
    "# plot the matched distribution\n",
    "plt.hist(log10sSFR, bins = 100, density=True, alpha=0.5)\n",
    "plt.hist(log10_sfr_sf, bins = 100, density=True, alpha=0.5)\n",
    "x = np.linspace(min(log10_sfr_sf), max(log10_sfr_sf), 200)\n",
    "y = target.pdf(x)\n",
    "plt.plot(x, y)\n",
    "plt.plot(x, log10_sSFR_pdf(x))\n",
    "plt.xlabel(r'$\\mathrm{log}_{10}(sSFR)$')\n",
    "plt.title('redshift z={}'.format(z))\n",
    "plt.show()\n",
    "\n",
    "# biject the samples for training the MAF\n",
    "phi = bijector.forward(theta.astype(np.float64)).numpy().astype(np.float32)\n",
    "\n",
    "# train the MAF\n",
    "epochs = 300\n",
    "pbar = tqdm.tnrange(epochs, desc=\"Iterations\")\n",
    "for epoch in pbar:\n",
    "    pbar.set_postfix(loss=train_step_samples(phi, weights).numpy())\n",
    "    \n",
    "# re-sample and re-weight\n",
    "phi = maf.sample(N).numpy().astype(np.float64)\n",
    "theta = bijector.inverse(phi).numpy()\n",
    "log10sSFR = compute_sSFR(theta, tuniv)\n",
    "cut = (log10sSFR > -20) * (log10sSFR < 0)\n",
    "log10sSFR = log10sSFR[cut]\n",
    "theta = theta[cut]\n",
    "phi = phi[cut]\n",
    "\n",
    "log10_sSFR_pdf = gaussian_kde(log10sSFR)\n",
    "weights = target.pdf(log10sSFR)/log10_sSFR_pdf.pdf(log10sSFR)\n",
    "weights = weights/np.sum(weights)\n",
    "\n",
    "# plot the matched distribution\n",
    "plt.hist(log10sSFR, bins = 100, density=True, alpha=0.5)\n",
    "plt.hist(log10_sfr_sf, bins = 100, density=True, alpha=0.5)\n",
    "x = np.linspace(min(log10_sfr_sf), max(log10_sfr_sf), 200)\n",
    "y = target.pdf(x)\n",
    "plt.plot(x, y)\n",
    "plt.plot(x, log10_sSFR_pdf(x))\n",
    "plt.xlabel(r'$\\mathrm{log}_{10}(sSFR)$')\n",
    "plt.title('redshift z={}'.format(z))\n",
    "plt.show()\n",
    "\n",
    "# re-train the MAF\n",
    "pbar = tqdm.tnrange(epochs, desc=\"Iterations\")\n",
    "for epoch in pbar:\n",
    "    pbar.set_postfix(loss=train_step_samples(phi, weights).numpy())\n",
    "    \n",
    "# re-sample and re-weight\n",
    "phi = maf.sample(N).numpy().astype(np.float64)\n",
    "theta = bijector.inverse(phi).numpy()\n",
    "log10sSFR = compute_sSFR(theta, tuniv)\n",
    "cut = (log10sSFR > -20) * (log10sSFR < 0)\n",
    "log10sSFR = log10sSFR[cut]\n",
    "theta = theta[cut]\n",
    "phi = phi[cut]\n",
    "\n",
    "log10_sSFR_pdf = gaussian_kde(np.log10(sSFR))\n",
    "weights = target.pdf(log10sSFR)/log10_sSFR_pdf.pdf(log10sSFR)\n",
    "weights = weights/np.sum(weights)\n",
    "\n",
    "# plot the matched distribution\n",
    "plt.hist(log10sSFR, bins = 100, density=True, alpha=0.5)\n",
    "plt.hist(log10_sfr_sf, bins = 100, density=True, alpha=0.5)\n",
    "x = np.linspace(min(log10_sfr_sf), max(log10_sfr_sf), 200)\n",
    "y = target.pdf(x)\n",
    "plt.plot(x, y)\n",
    "plt.plot(x, log10_sSFR_pdf(x))\n",
    "plt.xlabel(r'$\\mathrm{log}_{10}(sSFR)$')\n",
    "plt.title('redshift z={}'.format(z))\n",
    "plt.show()"
   ]
  },
  {
   "cell_type": "code",
   "execution_count": 106,
   "metadata": {},
   "outputs": [
    {
     "data": {
      "image/png": "[encoded data removed]",
      "text/plain": [
       "<Figure size 432x288 with 1 Axes>"
      ]
     },
     "metadata": {
      "needs_background": "light"
     },
     "output_type": "display_data"
    }
   ],
   "source": [
    "plt.hist(log10sSFR, weights=weights, bins = 50)\n",
    "plt.show()"
   ]
  },
  {
   "cell_type": "code",
   "execution_count": 128,
   "metadata": {},
   "outputs": [
    {
     "data": {
      "image/png": "[encoded data removed]",
      "text/plain": [
       "<Figure size 432x288 with 1 Axes>"
      ]
     },
     "metadata": {
      "needs_background": "light"
     },
     "output_type": "display_data"
    }
   ],
   "source": [
    "plt.scatter(theta[:,0], theta[:,1])\n",
    "plt.show()"
   ]
  },
  {
   "cell_type": "code",
   "execution_count": 130,
   "metadata": {},
   "outputs": [
    {
     "name": "stderr",
     "output_type": "stream",
     "text": [
      "/usr/local/Cellar/ipython/7.8.0/libexec/vendor/lib/python3.7/site-packages/ipykernel_launcher.py:27: RuntimeWarning: divide by zero encountered in true_divide\n"
     ]
    }
   ],
   "source": [
    "# number of samples\n",
    "N = 100000\n",
    "\n",
    "# target density\n",
    "z = 0.\n",
    "mu_sSFR = (1e-10)*(1+z)**2.1\n",
    "target = stats.norm(loc=np.log10(mu_sSFR), scale=0.3)\n",
    "log10_sfr_sf = target.rvs(N)\n",
    "\n",
    "# initial proposal draws\n",
    "theta = np.column_stack([np.random.uniform(-1, 0.5, N), np.random.uniform(-1, 0, N)])\n",
    "\n",
    "# compute sSFR for each \\theta and weights\n",
    "log10sSFR = np.log10(compute_sSFR(theta))\n",
    "cut = (log10sSFR > -20) * (log10sSFR < 0)\n",
    "log10sSFR = log10sSFR[cut]\n",
    "theta = theta[cut]\n",
    "\n",
    "log10_sSFR_pdf = gaussian_kde(log10sSFR)\n",
    "weights = target.pdf(log10sSFR)/log10_sSFR_pdf.pdf(log10sSFR)\n",
    "weights = weights/np.sum(weights)\n",
    "\n",
    "# importance re-sampling step\n",
    "theta, sSFR, log10_sSFR_pdf, weights = importance_resample(theta, weights, target, N)"
   ]
  },
  {
   "cell_type": "code",
   "execution_count": 134,
   "metadata": {},
   "outputs": [
    {
     "data": {
      "image/png": "[encoded data removed]",
      "text/plain": [
       "<Figure size 432x288 with 1 Axes>"
      ]
     },
     "metadata": {
      "needs_background": "light"
     },
     "output_type": "display_data"
    }
   ],
   "source": [
    "plt.scatter(theta[:,0], theta[:,1], s=1.)\n",
    "plt.show()"
   ]
  },
  {
   "cell_type": "code",
   "execution_count": 239,
   "metadata": {},
   "outputs": [],
   "source": [
    "s = np.load('../model_A/training_data/parameters/parameters56.npy')"
   ]
  },
  {
   "cell_type": "code",
   "execution_count": 405,
   "metadata": {},
   "outputs": [
    {
     "data": {
      "text/plain": [
       "array([0.001     , 0.00100035, 0.00100069, ..., 0.99930943, 0.99965465,\n",
       "       1.        ])"
      ]
     },
     "execution_count": 405,
     "metadata": {},
     "output_type": "execute_result"
    }
   ],
   "source": [
    "np.logspace(-3, -1e-10, nt)"
   ]
  },
  {
   "cell_type": "code",
   "execution_count": 406,
   "metadata": {},
   "outputs": [],
   "source": [
    "t = tuniv * (1. - np.logspace(-3, -1e-10, nt))[::-1]"
   ]
  },
  {
   "cell_type": "code",
   "execution_count": 408,
   "metadata": {},
   "outputs": [
    {
     "data": {
      "text/plain": [
       "array([13.60003137, 13.6000659 , 13.60010041, ..., 13.68629053,\n",
       "       13.68629527, 13.6863    ])"
      ]
     },
     "execution_count": 408,
     "metadata": {},
     "output_type": "execute_result"
    }
   ],
   "source": [
    "t[t > tuniv - 0.1]"
   ]
  },
  {
   "cell_type": "code",
   "execution_count": null,
   "metadata": {},
   "outputs": [],
   "source": []
  }
 ],
 "metadata": {
  "kernelspec": {
   "display_name": "Python 3",
   "language": "python",
   "name": "python3"
  },
  "language_info": {
   "codemirror_mode": {
    "name": "ipython",
    "version": 3
   },
   "file_extension": ".py",
   "mimetype": "text/x-python",
   "name": "python",
   "nbconvert_exporter": "python",
   "pygments_lexer": "ipython3",
   "version": "3.7.4"
  }
 },
 "nbformat": 4,
 "nbformat_minor": 2
}
