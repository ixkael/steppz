{
 "cells": [
  {
   "cell_type": "code",
   "execution_count": 1,
   "metadata": {},
   "outputs": [],
   "source": [
    "import numpy as np\n",
    "import matplotlib.pyplot as plt\n",
    "import pickle\n",
    "from scipy.special import gammainc, gammaincinv\n",
    "from sedpy.observate import load_filters, getSED\n",
    "from scipy.integrate import cumtrapz\n",
    "from scipy.stats import gaussian_kde\n",
    "import scipy.stats as stats\n",
    "from getdist import plots, MCSamples\n",
    "import matplotlib as mpl\n",
    "from astropy.cosmology import WMAP9\n",
    "from scipy.interpolate import InterpolatedUnivariateSpline\n",
    "\n",
    "import tensorflow as tf\n",
    "import tensorflow_probability as tfp\n",
    "import tqdm\n",
    "from tqdm import trange\n",
    "tfb = tfp.bijectors\n",
    "tfd = tfp.distributions\n",
    "tfkl = tf.keras.layers\n",
    "tfk = tf.keras\n",
    "\n",
    "from sfh import *\n",
    "\n",
    "columnwidth = 20 # cm\n",
    "aspect = 1.67\n",
    "pts_per_inch = 72.27\n",
    "inch_per_cm = 2.54\n",
    "width = columnwidth/inch_per_cm\n",
    "plt.rcParams.update({'figure.figsize': [width, width / aspect],\n",
    "                                'backend': 'pdf',\n",
    "                                'font.size': 14,\n",
    "                                'legend.fontsize': 14,\n",
    "                                'legend.frameon': False,\n",
    "                                'legend.loc': 'best',\n",
    "                                'lines.markersize': 3,\n",
    "                                'lines.linewidth': 2,\n",
    "                                'axes.linewidth': .5,\n",
    "                                'axes.edgecolor': 'black'})"
   ]
  },
  {
   "cell_type": "markdown",
   "metadata": {},
   "source": [
    "Generate parameter draws from the prior"
   ]
  },
  {
   "cell_type": "code",
   "execution_count": 2,
   "metadata": {},
   "outputs": [
    {
     "name": "stderr",
     "output_type": "stream",
     "text": [
      "100%|██████████| 64/64 [00:02<00:00, 22.31it/s]\n"
     ]
    }
   ],
   "source": [
    "n_samples = 100000\n",
    "n_batch = 64\n",
    "\n",
    "# interpolator for tuniv\n",
    "tuniv_ = InterpolatedUnivariateSpline(np.linspace(0, 2.5, 100), WMAP9.age(np.linspace(0, 2.5, 100)).value)\n",
    "\n",
    "for i in trange(n_batch):\n",
    "    \n",
    "    # generate parameter draws\n",
    "    z = np.random.uniform(0, 2.5, n_samples)\n",
    "    tuniv = tuniv_(z)\n",
    "    log10Z = np.random.uniform(-1.98, 0.19, n_samples)\n",
    "    dust2 = np.random.uniform(0, 2, n_samples)**2\n",
    "    dust_index = np.random.uniform(-1, 0.4, n_samples)\n",
    "    log10alpha = np.random.uniform(-1, 3, n_samples)\n",
    "    log10beta = np.random.uniform(-1, 3, n_samples)\n",
    "    tau = np.random.uniform(0.1, tuniv)\n",
    "    \n",
    "    # stack the samples and save them to file\n",
    "    theta = np.column_stack([z, log10Z, dust2, dust_index, tau, log10alpha, log10beta])\n",
    "    \n",
    "    # send them to file\n",
    "    np.save('training_data/parameters/parameters{}.npy'.format(i), theta)"
   ]
  },
  {
   "cell_type": "code",
   "execution_count": null,
   "metadata": {},
   "outputs": [],
   "source": [
    "# mass\n",
    "\n",
    "# SFH and redshift parameters\n",
    "\n",
    "# dust parameters\n",
    "\n",
    "# metallicity (conditioned on mass)"
   ]
  },
  {
   "cell_type": "code",
   "execution_count": 2,
   "metadata": {},
   "outputs": [
    {
     "name": "stdout",
     "output_type": "stream",
     "text": [
      "19\n",
      "18\n",
      "17\n",
      "16\n",
      "15\n",
      "14\n",
      "13\n",
      "12\n",
      "11\n",
      "10\n",
      "9\n",
      "8\n",
      "7\n",
      "6\n",
      "5\n",
      "4\n",
      "3\n",
      "2\n",
      "1\n"
     ]
    }
   ],
   "source": [
    "for i in range(20 - 1, 0, -1):\n",
    "    print(i)"
   ]
  },
  {
   "cell_type": "code",
   "execution_count": null,
   "metadata": {},
   "outputs": [],
   "source": []
  }
 ],
 "metadata": {
  "kernelspec": {
   "display_name": "Python 3",
   "language": "python",
   "name": "python3"
  },
  "language_info": {
   "codemirror_mode": {
    "name": "ipython",
    "version": 3
   },
   "file_extension": ".py",
   "mimetype": "text/x-python",
   "name": "python",
   "nbconvert_exporter": "python",
   "pygments_lexer": "ipython3",
   "version": "3.8.2"
  }
 },
 "nbformat": 4,
 "nbformat_minor": 2
}
